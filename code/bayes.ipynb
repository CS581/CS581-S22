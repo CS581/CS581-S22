{
 "cells": [
  {
   "cell_type": "markdown",
   "metadata": {},
   "source": [
    "# BAYES RULE"
   ]
  },
  {
   "cell_type": "markdown",
   "metadata": {},
   "source": [
    "Variables:\n",
    "\n",
    "$V$: vaccinated?. Values $v, \\neg v$\n",
    "\n",
    "$H$: hospitalized?. Values $h, \\neg h$"
   ]
  },
  {
   "cell_type": "markdown",
   "metadata": {},
   "source": [
    "Given that $p$ % of the hospitalized is vaccinated, i.e., $P(v|h) = p$, do the vaccines work?"
   ]
  },
  {
   "cell_type": "markdown",
   "metadata": {},
   "source": [
    "There are four possible worlds. Let's say the number of people in each world is as follows:\n",
    "\n",
    "$\\#(v, \\neg h)=a$\n",
    "\n",
    "$\\#(v, h)=b$\n",
    "\n",
    "$\\#(\\neg v, h)=c$\n",
    "\n",
    "$\\#(v, \\neg h)=d$"
   ]
  },
  {
   "cell_type": "markdown",
   "metadata": {},
   "source": [
    "What are $P(h|v)$ and $P(h|\\neg v)$?"
   ]
  },
  {
   "cell_type": "markdown",
   "metadata": {},
   "source": [
    "Let $P(v|h) = \\frac{b}{b+c} = 0.6$. Let $b=600$ and $c=400$.\n",
    "\n",
    "To calculate $P(h|v)$ and $P(h|\\neg v)$, we still need to know $a$ and $d$. These would tell us about the overall hospitilization and overall vaccination rates. "
   ]
  },
  {
   "cell_type": "markdown",
   "metadata": {},
   "source": [
    "The hospitilization rate is $P(h) = \\frac{b+c}{a+b+c+d}$.\n",
    "\n",
    "The vaccination rate is $P(v) = \\frac{a+b}{a+b+c+d}$.\n"
   ]
  },
  {
   "cell_type": "code",
   "execution_count": 1,
   "metadata": {},
   "outputs": [],
   "source": [
    "def ph(a, b, c, d):\n",
    "    return (b+c)/(a+b+c+d)\n",
    "\n",
    "def pv(a, b, c, d):\n",
    "    return (a+b)/(a+b+c+d)"
   ]
  },
  {
   "cell_type": "code",
   "execution_count": 2,
   "metadata": {},
   "outputs": [],
   "source": [
    "def hgivenv(a, b, c, d):\n",
    "    return (b/(a+b), c/(c+d))"
   ]
  },
  {
   "cell_type": "code",
   "execution_count": 3,
   "metadata": {},
   "outputs": [],
   "source": [
    "def vgivenh(a, b, c, d):\n",
    "    return (b/(b+c), c/(b+c))"
   ]
  },
  {
   "cell_type": "markdown",
   "metadata": {},
   "source": [
    "Let's say:"
   ]
  },
  {
   "cell_type": "code",
   "execution_count": 4,
   "metadata": {},
   "outputs": [],
   "source": [
    "a=900\n",
    "b=600\n",
    "c=400\n",
    "d=100"
   ]
  },
  {
   "cell_type": "code",
   "execution_count": 6,
   "metadata": {},
   "outputs": [
    {
     "data": {
      "text/plain": [
       "(0.6, 0.4)"
      ]
     },
     "execution_count": 6,
     "metadata": {},
     "output_type": "execute_result"
    }
   ],
   "source": [
    "#P(v|h) - percent of vaccinated among the hospitalized\n",
    "\n",
    "vgivenh(a, b, c, d)"
   ]
  },
  {
   "cell_type": "code",
   "execution_count": 7,
   "metadata": {},
   "outputs": [
    {
     "data": {
      "text/plain": [
       "0.5"
      ]
     },
     "execution_count": 7,
     "metadata": {},
     "output_type": "execute_result"
    }
   ],
   "source": [
    "#P(h) - overall hospitalization rate\n",
    "\n",
    "ph(a, b, c, d)"
   ]
  },
  {
   "cell_type": "code",
   "execution_count": 8,
   "metadata": {},
   "outputs": [
    {
     "data": {
      "text/plain": [
       "0.75"
      ]
     },
     "execution_count": 8,
     "metadata": {},
     "output_type": "execute_result"
    }
   ],
   "source": [
    "# P(v) -- Overall vacination rate\n",
    "\n",
    "pv(a, b, c, d)"
   ]
  },
  {
   "cell_type": "code",
   "execution_count": 11,
   "metadata": {},
   "outputs": [
    {
     "data": {
      "text/plain": [
       "0.4"
      ]
     },
     "execution_count": 11,
     "metadata": {},
     "output_type": "execute_result"
    }
   ],
   "source": [
    "# P(h|v) - Probability of hospitalization if vaccinated\n",
    "\n",
    "hgivenv(a, b, c, d)[0]"
   ]
  },
  {
   "cell_type": "code",
   "execution_count": 12,
   "metadata": {},
   "outputs": [
    {
     "data": {
      "text/plain": [
       "0.8"
      ]
     },
     "execution_count": 12,
     "metadata": {},
     "output_type": "execute_result"
    }
   ],
   "source": [
    "# P(h|~v) - Probability of hospitalization if not vaccinated\n",
    "\n",
    "hgivenv(a, b, c, d)[1]"
   ]
  },
  {
   "cell_type": "markdown",
   "metadata": {},
   "source": [
    "**Exercise:** experiment with different $a$ and $d$ values. Specifically, try values where \n",
    "1. $P(v) > P(v|h)$\n",
    "1. $P(v) = P(v|h)$\n",
    "1. $P(v) < P(v|h)$.  "
   ]
  },
  {
   "cell_type": "markdown",
   "metadata": {},
   "source": []
  }
 ],
 "metadata": {
  "interpreter": {
   "hash": "9a328e9dafe32c48b4eaefbad3747c00d426236eea28e72508c75cbdd661723c"
  },
  "kernelspec": {
   "display_name": "Python 3.8.12 ('ml')",
   "language": "python",
   "name": "python3"
  },
  "language_info": {
   "codemirror_mode": {
    "name": "ipython",
    "version": 3
   },
   "file_extension": ".py",
   "mimetype": "text/x-python",
   "name": "python",
   "nbconvert_exporter": "python",
   "pygments_lexer": "ipython3",
   "version": "3.8.12"
  },
  "orig_nbformat": 4
 },
 "nbformat": 4,
 "nbformat_minor": 2
}
